{
 "cells": [
  {
   "cell_type": "markdown",
   "metadata": {},
   "source": [
    "### 넘파이 ndarray 개요"
   ]
  },
  {
   "cell_type": "markdown",
   "metadata": {},
   "source": [
    "넘파이 기반 데이터 타입은 ndarray<br>\n",
    "np.array사용하여 ndarry로 변환시킴"
   ]
  },
  {
   "cell_type": "code",
   "execution_count": 1,
   "metadata": {},
   "outputs": [],
   "source": [
    "import numpy as np"
   ]
  },
  {
   "cell_type": "code",
   "execution_count": 2,
   "metadata": {},
   "outputs": [
    {
     "data": {
      "text/plain": [
       "(3,)"
      ]
     },
     "execution_count": 2,
     "metadata": {},
     "output_type": "execute_result"
    }
   ],
   "source": [
    "array1 = np.array([1,2,3])\n",
    "array1.shape   \n",
    "\n",
    "# (3,): 1차원 array로 3개의 데이터를 가지고 있다"
   ]
  },
  {
   "cell_type": "code",
   "execution_count": 5,
   "metadata": {},
   "outputs": [
    {
     "data": {
      "text/plain": [
       "(1, 3)"
      ]
     },
     "execution_count": 5,
     "metadata": {},
     "output_type": "execute_result"
    }
   ],
   "source": [
    "array2 = np.array([[1,2,3]])\n",
    "array2.shape\n",
    "\n",
    "# (1, 3): 1개의 행과 3개의 열로 구성된 2차원 데이터를 가지고 있다\n",
    "# array1과 동일한 데이터 건수를 가지고 있지만, shape으로 1차원과 2차원임을 구별하고 있음"
   ]
  },
  {
   "cell_type": "code",
   "execution_count": 6,
   "metadata": {},
   "outputs": [
    {
     "data": {
      "text/plain": [
       "(2, 3)"
      ]
     },
     "execution_count": 6,
     "metadata": {},
     "output_type": "execute_result"
    }
   ],
   "source": [
    "array3 = np.array([[1,2,3],[2,3,4]])\n",
    "array3.shape\n",
    "\n",
    "# (2, 3): 2차원 array로 2개의 행과 3개의 열로 구성되어 2 * 3 = 6개의 데이터를 가지고 있다"
   ]
  },
  {
   "cell_type": "markdown",
   "metadata": {},
   "source": [
    "### ndarray의 데이터 타입"
   ]
  },
  {
   "cell_type": "markdown",
   "metadata": {},
   "source": [
    "ndarray내의 데이터 타입은 같은 데이터 타입만 가능"
   ]
  },
  {
   "cell_type": "code",
   "execution_count": 10,
   "metadata": {},
   "outputs": [
    {
     "data": {
      "text/plain": [
       "dtype('int32')"
      ]
     },
     "execution_count": 10,
     "metadata": {},
     "output_type": "execute_result"
    }
   ],
   "source": [
    "list1 = [1,2,3]\n",
    "array1 = np.array(list1)\n",
    "array1.dtype\n",
    "\n",
    "# 같은 데이터 타입으로 이루어진 리스트는 ndarray로 변경 가능"
   ]
  },
  {
   "cell_type": "markdown",
   "metadata": {},
   "source": [
    "서로 다른 데이터 타입이 섞여있는 리스트는 데이터 크기가 큰 타입으로 변경됨"
   ]
  },
  {
   "cell_type": "code",
   "execution_count": 70,
   "metadata": {},
   "outputs": [
    {
     "data": {
      "text/plain": [
       "array(['1', '2', 'test'], dtype='<U11')"
      ]
     },
     "execution_count": 70,
     "metadata": {},
     "output_type": "execute_result"
    }
   ],
   "source": [
    "# int와 문자열이 섞인 리스트 변환\n",
    "list2 = [1, 2, 'test']\n",
    "array2 = np.array(list2)\n",
    "array2\n",
    "\n",
    "# 숫자 1, 2가 문자열 '1', '2'로 변경됨"
   ]
  },
  {
   "cell_type": "code",
   "execution_count": 44,
   "metadata": {},
   "outputs": [
    {
     "data": {
      "text/plain": [
       "array([1., 2., 3.])"
      ]
     },
     "execution_count": 44,
     "metadata": {},
     "output_type": "execute_result"
    }
   ],
   "source": [
    "# int와 flot이 섞인 리스트 변환\n",
    "list3 = [1, 2, 3.0]\n",
    "array3 = np.array(list3)\n",
    "array3\n",
    "\n",
    "# 숫자 1, 2가 모두 1., 2. 실수형으로 변경됨"
   ]
  },
  {
   "cell_type": "markdown",
   "metadata": {},
   "source": [
    "ndarray 내의 데이터 타입 변경은 astype()"
   ]
  },
  {
   "cell_type": "code",
   "execution_count": 18,
   "metadata": {},
   "outputs": [
    {
     "name": "stdout",
     "output_type": "stream",
     "text": [
      "[1. 2. 3.] float64\n",
      "[1 2 3] int32\n"
     ]
    }
   ],
   "source": [
    "# int -> float: 실수형으로 변경되어 소수점 생김\n",
    "array_int = np.array([1, 2, 3])\n",
    "array_float = array_int.astype('float64')\n",
    "print(array_float, array_float.dtype)\n",
    "\n",
    "# float -> int: 정수형으로 변경되어 소수점 사라짐\n",
    "array_int1= array_float.astype('int32')\n",
    "print(array_int1, array_int1.dtype)"
   ]
  },
  {
   "cell_type": "markdown",
   "metadata": {},
   "source": [
    "### ndarray를 편리하게 생성하기 - arange, zeros, ones"
   ]
  },
  {
   "cell_type": "markdown",
   "metadata": {},
   "source": [
    "테스트용 데이터를 만들거나, 대규모 데이터를 초기화해야 할 경우 사용"
   ]
  },
  {
   "cell_type": "markdown",
   "metadata": {},
   "source": [
    "arange: array를 range로 표현"
   ]
  },
  {
   "cell_type": "code",
   "execution_count": 45,
   "metadata": {},
   "outputs": [
    {
     "data": {
      "text/plain": [
       "array([0, 1, 2, 3, 4, 5, 6, 7, 8, 9])"
      ]
     },
     "execution_count": 45,
     "metadata": {},
     "output_type": "execute_result"
    }
   ],
   "source": [
    "sequence_array = np.arange(10)\n",
    "sequence_array\n",
    "\n",
    "# 1차원 ndarray 생성"
   ]
  },
  {
   "cell_type": "markdown",
   "metadata": {},
   "source": [
    "zeros"
   ]
  },
  {
   "cell_type": "code",
   "execution_count": 46,
   "metadata": {},
   "outputs": [
    {
     "data": {
      "text/plain": [
       "array([[0, 0],\n",
       "       [0, 0],\n",
       "       [0, 0]])"
      ]
     },
     "execution_count": 46,
     "metadata": {},
     "output_type": "execute_result"
    }
   ],
   "source": [
    "# 튜플 형태의 shape을 입력하면 해당 shape을 가진 0으로 이뤄진 ndarray 반환\n",
    "zero_array = np.zeros((3,2),dtype='int32')\n",
    "zero_array"
   ]
  },
  {
   "cell_type": "code",
   "execution_count": 47,
   "metadata": {},
   "outputs": [
    {
     "data": {
      "text/plain": [
       "array([[1., 1.],\n",
       "       [1., 1.],\n",
       "       [1., 1.]])"
      ]
     },
     "execution_count": 47,
     "metadata": {},
     "output_type": "execute_result"
    }
   ],
   "source": [
    "# 튜플 형태의 shape을 입력하면 해당 shape을 가진 1로 이뤄진 ndarray 반환\n",
    "one_array = np.ones((3,2))\n",
    "one_array\n",
    "\n",
    "# dtype을 정해주지 않으면 dafault로 float 설정됨"
   ]
  },
  {
   "cell_type": "markdown",
   "metadata": {},
   "source": [
    "### ndarray의 차원과 크기를 변경하는 reshape()"
   ]
  },
  {
   "cell_type": "markdown",
   "metadata": {},
   "source": [
    "ndarray를 특정 차원 및 크기로 변환"
   ]
  },
  {
   "cell_type": "code",
   "execution_count": 71,
   "metadata": {},
   "outputs": [
    {
     "name": "stdout",
     "output_type": "stream",
     "text": [
      "[0 1 2 3 4 5 6 7 8 9]\n",
      "[[0 1 2 3 4]\n",
      " [5 6 7 8 9]]\n"
     ]
    }
   ],
   "source": [
    "# 1차원 ndarray 생성\n",
    "array1 = np.arange(10)\n",
    "print(array1)\n",
    "\n",
    "# 1차원 -> 2차원으로 변환\n",
    "array2 = array1.reshape(2,5)\n",
    "print(array2)"
   ]
  },
  {
   "cell_type": "markdown",
   "metadata": {},
   "source": [
    "실전에서는 -1을 인자로 사용 => 알맞은 크기로 알아서 shape 변환해 줌"
   ]
  },
  {
   "cell_type": "code",
   "execution_count": 49,
   "metadata": {},
   "outputs": [
    {
     "name": "stdout",
     "output_type": "stream",
     "text": [
      "[0 1 2 3 4 5 6 7 8 9]\n",
      "(2, 5)\n"
     ]
    }
   ],
   "source": [
    "# 1차원 ndarray 생성\n",
    "array1 = np.arange(10)\n",
    "print(array1)\n",
    "\n",
    "# 5열에 맞는 행을 자동으로 설정해 2차원으로 변환\n",
    "array2 = array1.reshape(-1,5)\n",
    "print(array2.shape)\n",
    "\n",
    "# 1차원 데이터가 10개이므로 5열에 맞는 2행으로 이뤄짐"
   ]
  },
  {
   "cell_type": "markdown",
   "metadata": {},
   "source": [
    "-1 인자는 reshape(-1,1) 형태로 자주 사용<br>\n",
    "reshape(-1,1): 2차원이고, 여러 개의 행을 가지되 반드시 1개의 열을 가진 ndarray로 변환됨<br>\n",
    "stack나 concat으로 결합시 각각의 ndarray의 형태를 통일해 사용함<br>"
   ]
  },
  {
   "cell_type": "code",
   "execution_count": 59,
   "metadata": {},
   "outputs": [
    {
     "name": "stdout",
     "output_type": "stream",
     "text": [
      "[0 1 2 3 4 5 6 7]\n",
      "[[0], [1], [2], [3], [4], [5], [6], [7]]\n"
     ]
    }
   ],
   "source": [
    "# 1차원 ndarray 생성\n",
    "array1 = np.arange(8)\n",
    "print(array1)\n",
    "\n",
    "# 1차원 -> 2차원으로 변환\n",
    "array6 = array1.reshape(-1,1)\n",
    "print(array6.tolist())         # tolist: 리스트로 변환해 줌 -> 리스트로 변환해 출력하면 보기 쉬우므로"
   ]
  },
  {
   "cell_type": "code",
   "execution_count": 58,
   "metadata": {},
   "outputs": [
    {
     "name": "stdout",
     "output_type": "stream",
     "text": [
      "[[[0, 1], [2, 3]], [[4, 5], [6, 7]]]\n",
      "[[0], [1], [2], [3], [4], [5], [6], [7]]\n"
     ]
    }
   ],
   "source": [
    "# 3차원 ndarray 생성\n",
    "array3d = array1.reshape((2,2,2))\n",
    "print(array3d.tolist())\n",
    "\n",
    "# 3차원 -> 2차원으로 변환\n",
    "array5 = array3d.reshape(-1,1)\n",
    "print(array5.tolist())"
   ]
  },
  {
   "cell_type": "markdown",
   "metadata": {},
   "source": [
    "### 넘파이의 ndarray의 데이터 세트 선택하기 - 인덱싱(indexing)"
   ]
  },
  {
   "cell_type": "markdown",
   "metadata": {},
   "source": [
    "#### 단일값 추출: 타입은 ndarry내의 데이터 타입"
   ]
  },
  {
   "cell_type": "markdown",
   "metadata": {},
   "source": [
    "1차원"
   ]
  },
  {
   "cell_type": "code",
   "execution_count": 72,
   "metadata": {},
   "outputs": [
    {
     "name": "stdout",
     "output_type": "stream",
     "text": [
      "[1 2 3 4 5 6 7 8 9]\n",
      "3\n",
      "<class 'numpy.int32'>\n"
     ]
    }
   ],
   "source": [
    "# 1차원 ndarray 생성 \n",
    "array1 = np.arange(start=1, stop=10)\n",
    "print(array1)\n",
    "\n",
    "# 3번 데이터 추출\n",
    "value = array1[2]\n",
    "print(value)\n",
    "print(type(value))    # array1[2]의 타입은 ndarray타입이 아닌 ndarray내의 데이터 타입"
   ]
  },
  {
   "cell_type": "code",
   "execution_count": 36,
   "metadata": {},
   "outputs": [
    {
     "name": "stdout",
     "output_type": "stream",
     "text": [
      "9 8\n"
     ]
    }
   ],
   "source": [
    "print(array1[-1],array1[-2])    # 뒤에서 첫 번째와 두 번째 데이터 출력"
   ]
  },
  {
   "cell_type": "code",
   "execution_count": 42,
   "metadata": {},
   "outputs": [
    {
     "name": "stdout",
     "output_type": "stream",
     "text": [
      "[9 2 3 4 5 6 7 8 0]\n"
     ]
    }
   ],
   "source": [
    "# 인덱스 사용해 데이터 수정 가능\n",
    "array1[0] = 9\n",
    "array1[8] = 0\n",
    "print(array1)"
   ]
  },
  {
   "cell_type": "markdown",
   "metadata": {},
   "source": [
    "2차원"
   ]
  },
  {
   "cell_type": "code",
   "execution_count": 41,
   "metadata": {},
   "outputs": [
    {
     "name": "stdout",
     "output_type": "stream",
     "text": [
      "[[1 2 3]\n",
      " [4 5 6]\n",
      " [7 8 9]]\n",
      "1\n",
      "2\n",
      "4\n",
      "9\n"
     ]
    }
   ],
   "source": [
    "# 2차원 ndarray 생성\n",
    "array1d = np.arange(start=1, stop=10)\n",
    "array2d = array1d.reshape(3,3)\n",
    "print(array2d)\n",
    "\n",
    "print(array2d[0,0])   # 0행 0열\n",
    "print(array2d[0,1])   # 0행 1열\n",
    "print(array2d[1,0])   # 1행 0열\n",
    "print(array2d[2,2])   # 2행 2열\n",
    "\n",
    "# axis = 0: 행 방향 (default)\n",
    "# axis = 1: 열 방향"
   ]
  },
  {
   "cell_type": "markdown",
   "metadata": {},
   "source": [
    "#### 슬라이싱"
   ]
  },
  {
   "cell_type": "markdown",
   "metadata": {},
   "source": [
    "슬라이싱, 팬시 인덱싱, 불린 인덱싱으로 추출한 데이터 타입은 ndarray 타입"
   ]
  },
  {
   "cell_type": "markdown",
   "metadata": {},
   "source": [
    "1차원"
   ]
  },
  {
   "cell_type": "code",
   "execution_count": 74,
   "metadata": {},
   "outputs": [
    {
     "name": "stdout",
     "output_type": "stream",
     "text": [
      "[1 2 3 4 5 6 7 8 9]\n"
     ]
    }
   ],
   "source": [
    "# 1차원 ndarray 생성\n",
    "array1 = np.arange(start=1, stop=10)\n",
    "print(array1)"
   ]
  },
  {
   "cell_type": "code",
   "execution_count": 75,
   "metadata": {},
   "outputs": [
    {
     "name": "stdout",
     "output_type": "stream",
     "text": [
      "[1 2 3]\n",
      "[1 2 3]\n",
      "[4 5 6 7 8 9]\n",
      "[1 2 3 4 5 6 7 8 9]\n"
     ]
    }
   ],
   "source": [
    "array3 = array1[0:3]  # 0 ~ 2\n",
    "print(array3)\n",
    "\n",
    "array4 = array1[:3]  # 0 ~ 2\n",
    "print(array4)\n",
    "\n",
    "array5 = array1[3:]  # 3번부터 끝까지\n",
    "print(array5)\n",
    "\n",
    "array6 = array1[:]   # 처음부터 끝까지\n",
    "print(array6)"
   ]
  },
  {
   "cell_type": "markdown",
   "metadata": {},
   "source": [
    "2차원"
   ]
  },
  {
   "cell_type": "code",
   "execution_count": 76,
   "metadata": {},
   "outputs": [
    {
     "name": "stdout",
     "output_type": "stream",
     "text": [
      "[[1 2 3]\n",
      " [4 5 6]\n",
      " [7 8 9]]\n"
     ]
    }
   ],
   "source": [
    "# 2차원 ndarray 생성\n",
    "array1d = np.arange(start=1, stop=10)\n",
    "array2d = array1d.reshape(3,3)\n",
    "print(array2d)"
   ]
  },
  {
   "cell_type": "code",
   "execution_count": 78,
   "metadata": {},
   "outputs": [
    {
     "name": "stdout",
     "output_type": "stream",
     "text": [
      "[[4 5 6]\n",
      " [7 8 9]]\n",
      "[[4 5 6]\n",
      " [7 8 9]]\n",
      "[[1 2 3]\n",
      " [4 5 6]\n",
      " [7 8 9]]\n",
      "[[2 3]\n",
      " [5 6]]\n",
      "[1 4]\n"
     ]
    }
   ],
   "source": [
    "print(array2d[1:3, 0:3])  # 1행~2행, 0열~2열\n",
    "print(array2d[1:3, :])    \n",
    "print(array2d[:, :])\n",
    "print(array2d[:2, 1:])\n",
    "print(array2d[:2, 0])"
   ]
  },
  {
   "cell_type": "code",
   "execution_count": 62,
   "metadata": {},
   "outputs": [
    {
     "name": "stdout",
     "output_type": "stream",
     "text": [
      "[1 2 3]\n",
      "[4 5 6]\n"
     ]
    }
   ],
   "source": [
    "print(array2d[0])  # 0행 \n",
    "print(array2d[1])  # 1행"
   ]
  },
  {
   "cell_type": "markdown",
   "metadata": {},
   "source": [
    "#### 팬시 인덱싱"
   ]
  },
  {
   "cell_type": "markdown",
   "metadata": {},
   "source": [
    "리스트나 ndarray로 인덱스 집합을 지정하면 해당 위치의 인덱스에 해당하는 ndarray를 반환"
   ]
  },
  {
   "cell_type": "code",
   "execution_count": 80,
   "metadata": {},
   "outputs": [
    {
     "name": "stdout",
     "output_type": "stream",
     "text": [
      "[[1 2 3]\n",
      " [4 5 6]\n",
      " [7 8 9]]\n"
     ]
    }
   ],
   "source": [
    "# 2차원 ndarray 생성\n",
    "array1d = np.arange(start=1, stop=10)\n",
    "array2d = array1d.reshape(3,3)\n",
    "print(array2d)"
   ]
  },
  {
   "cell_type": "code",
   "execution_count": 81,
   "metadata": {},
   "outputs": [
    {
     "name": "stdout",
     "output_type": "stream",
     "text": [
      "[3, 6]\n",
      "[[1, 2], [4, 5]]\n",
      "[[1, 2, 3], [4, 5, 6]]\n"
     ]
    }
   ],
   "source": [
    "array3 = array2d[[0,1], 2]    # (0,2), (1,2) : [0행 2열], [2행 2열]\n",
    "print(array3.tolist())\n",
    "\n",
    "array4 = array2d[[0,1], 0:2]  # ((0,0),(0,1), (1,0),(1,1)) : [0행 0열,0행 1열], [1행 0열,1행 1열]\n",
    "print(array4.tolist())\n",
    "\n",
    "array5 = array2d[[0,1]]       # ((0, :), (1, :)) : [0행 모든 열], [1행 모든 열]\n",
    "print(array5.tolist())"
   ]
  },
  {
   "cell_type": "markdown",
   "metadata": {},
   "source": [
    "#### 불린 인덱싱"
   ]
  },
  {
   "cell_type": "markdown",
   "metadata": {},
   "source": [
    "조건 필터링과 검색 동시에 가능<br>\n",
    "ndarray의 [ ]내에 조건문을 기재"
   ]
  },
  {
   "cell_type": "code",
   "execution_count": 68,
   "metadata": {},
   "outputs": [
    {
     "name": "stdout",
     "output_type": "stream",
     "text": [
      "[6 7 8 9]\n"
     ]
    }
   ],
   "source": [
    "# 1차원 ndarray 생성\n",
    "array1d = np.arange(start=1, stop=10)\n",
    "\n",
    "# [ ] 안에 조건문 입력\n",
    "array3 = array1d[array1d > 5]\n",
    "print(array3)"
   ]
  },
  {
   "cell_type": "code",
   "execution_count": 25,
   "metadata": {},
   "outputs": [
    {
     "data": {
      "text/plain": [
       "array([False, False, False, False, False,  True,  True,  True,  True])"
      ]
     },
     "execution_count": 25,
     "metadata": {},
     "output_type": "execute_result"
    }
   ],
   "source": [
    "array1d > 5   # T값을 가진 인덱스 5~8에 해당하는 데이터만 출력"
   ]
  },
  {
   "cell_type": "markdown",
   "metadata": {},
   "source": [
    "### 행렬의 정렬 – sort( )와 argsort( )"
   ]
  },
  {
   "cell_type": "markdown",
   "metadata": {},
   "source": [
    "#### 행렬 정렬"
   ]
  },
  {
   "cell_type": "code",
   "execution_count": 28,
   "metadata": {},
   "outputs": [
    {
     "name": "stdout",
     "output_type": "stream",
     "text": [
      "원본 행렬: [3 1 9 5]\n",
      "np.sort( ) 호출 후 반환된 정렬 행렬: [1 3 5 9]\n",
      "np.sort( ) 호출 후 원본 행렬: [3 1 9 5]\n",
      "org_array.sort( ) 호출 후 반환된 행렬: None\n",
      "org_array.sort( ) 호출 후 원본 행렬: [1 3 5 9]\n"
     ]
    }
   ],
   "source": [
    "org_array = np.array([ 3, 1, 9, 5]) \n",
    "print('원본 행렬:', org_array)\n",
    "\n",
    "# np.sort( )로 정렬 \n",
    "sort_array1 = np.sort(org_array)         \n",
    "print ('np.sort( ) 호출 후 반환된 정렬 행렬:', sort_array1) \n",
    "print('np.sort( ) 호출 후 원본 행렬:', org_array)\n",
    "\n",
    "# ndarray.sort( )로 정렬 -> 원본이 아예 변경됨\n",
    "sort_array2 = org_array.sort()\n",
    "print('org_array.sort( ) 호출 후 반환된 행렬:', sort_array2)\n",
    "print('org_array.sort( ) 호출 후 원본 행렬:', org_array)"
   ]
  },
  {
   "cell_type": "code",
   "execution_count": 29,
   "metadata": {},
   "outputs": [
    {
     "name": "stdout",
     "output_type": "stream",
     "text": [
      "내림차순으로 정렬: [9 5 3 1]\n"
     ]
    }
   ],
   "source": [
    "# 내림차순 정렬\n",
    "sort_array1_desc = np.sort(org_array)[::-1]\n",
    "print ('내림차순으로 정렬:', sort_array1_desc) "
   ]
  },
  {
   "cell_type": "code",
   "execution_count": 30,
   "metadata": {},
   "outputs": [
    {
     "name": "stdout",
     "output_type": "stream",
     "text": [
      "로우 방향으로 정렬:\n",
      " [[ 7  1]\n",
      " [ 8 12]]\n",
      "컬럼 방향으로 정렬:\n",
      " [[ 8 12]\n",
      " [ 1  7]]\n"
     ]
    }
   ],
   "source": [
    "# 2차원 행렬의 경우 axis 축 값 설정\n",
    "array2d = np.array([[8, 12], \n",
    "                   [7, 1 ]])\n",
    "\n",
    "sort_array2d_axis0 = np.sort(array2d, axis=0)\n",
    "print('로우 방향으로 정렬:\\n', sort_array2d_axis0)\n",
    "\n",
    "sort_array2d_axis1 = np.sort(array2d, axis=1)\n",
    "print('컬럼 방향으로 정렬:\\n', sort_array2d_axis1)"
   ]
  },
  {
   "cell_type": "markdown",
   "metadata": {},
   "source": [
    "#### 정렬된 행렬의 인덱스를 반환하기"
   ]
  },
  {
   "cell_type": "markdown",
   "metadata": {},
   "source": [
    "np.argsort(): 정렬된 행렬의 원본 행렬 인덱스를 ndarray 형으로 반환"
   ]
  },
  {
   "cell_type": "code",
   "execution_count": 31,
   "metadata": {},
   "outputs": [
    {
     "name": "stdout",
     "output_type": "stream",
     "text": [
      "<class 'numpy.ndarray'>\n",
      "행렬 정렬 시 원본 행렬의 인덱스: [1 0 3 2]\n"
     ]
    }
   ],
   "source": [
    "# 오름차순 정렬\n",
    "org_array = np.array([ 3, 1, 9, 5]) \n",
    "sort_indices = np.argsort(org_array)\n",
    "print(type(sort_indices))\n",
    "print('행렬 정렬 시 원본 행렬의 인덱스:', sort_indices)"
   ]
  },
  {
   "cell_type": "code",
   "execution_count": 32,
   "metadata": {},
   "outputs": [
    {
     "name": "stdout",
     "output_type": "stream",
     "text": [
      "행렬 내림차순 정렬 시 원본 행렬의 인덱스: [2 3 0 1]\n"
     ]
    }
   ],
   "source": [
    "# 내림차순 정렬\n",
    "org_array = np.array([ 3, 1, 9, 5]) \n",
    "sort_indices_desc = np.argsort(org_array)[::-1]\n",
    "print('행렬 내림차순 정렬 시 원본 행렬의 인덱스:', sort_indices_desc)"
   ]
  },
  {
   "cell_type": "markdown",
   "metadata": {},
   "source": [
    "argsort는 넘파이 데이터 추출에서 많이 사용됨"
   ]
  },
  {
   "cell_type": "code",
   "execution_count": 13,
   "metadata": {},
   "outputs": [
    {
     "name": "stdout",
     "output_type": "stream",
     "text": [
      "성적 오름차순 정렬 시 score_array의 인덱스: [0 2 4 1 3]\n",
      "성적 오름차순으로 name_array의 이름 출력: ['John' 'Sarah' 'Samuel' 'Mike' 'Kate']\n"
     ]
    }
   ],
   "source": [
    "import numpy as np\n",
    "\n",
    "name_array = np.array(['John', 'Mike', 'Sarah', 'Kate', 'Samuel'])\n",
    "score_array= np.array([78, 95, 84, 98, 88])\n",
    "\n",
    "sort_indices_asc = np.argsort(score_array)\n",
    "print('성적 오름차순 정렬 시 score_array의 인덱스:', sort_indices_asc)\n",
    "print('성적 오름차순으로 name_array의 이름 출력:', name_array[sort_indices_asc])"
   ]
  },
  {
   "cell_type": "markdown",
   "metadata": {},
   "source": [
    "### 선형대수 연산 – 행렬 내적과 전치 행렬 구하기"
   ]
  },
  {
   "cell_type": "markdown",
   "metadata": {},
   "source": [
    "#### 행렬 내적(행렬 곱)"
   ]
  },
  {
   "cell_type": "code",
   "execution_count": 33,
   "metadata": {},
   "outputs": [
    {
     "name": "stdout",
     "output_type": "stream",
     "text": [
      "행렬 내적 결과:\n",
      " [[ 58  64]\n",
      " [139 154]]\n"
     ]
    }
   ],
   "source": [
    "A = np.array([[1, 2, 3],\n",
    "              [4, 5, 6]])\n",
    "B = np.array([[7, 8],\n",
    "              [9, 10],\n",
    "              [11, 12]])\n",
    "\n",
    "dot_product = np.dot(A, B)\n",
    "print('행렬 내적 결과:\\n', dot_product)"
   ]
  },
  {
   "cell_type": "markdown",
   "metadata": {},
   "source": [
    "#### 전치 행렬"
   ]
  },
  {
   "cell_type": "code",
   "execution_count": 34,
   "metadata": {},
   "outputs": [
    {
     "name": "stdout",
     "output_type": "stream",
     "text": [
      "A의 전치 행렬:\n",
      " [[1 3]\n",
      " [2 4]]\n"
     ]
    }
   ],
   "source": [
    "A = np.array([[1, 2],\n",
    "              [3, 4]])\n",
    "transpose_mat = np.transpose(A)\n",
    "print('A의 전치 행렬:\\n', transpose_mat)"
   ]
  },
  {
   "cell_type": "code",
   "execution_count": null,
   "metadata": {},
   "outputs": [],
   "source": []
  }
 ],
 "metadata": {
  "kernelspec": {
   "display_name": "Python 3",
   "language": "python",
   "name": "python3"
  },
  "language_info": {
   "codemirror_mode": {
    "name": "ipython",
    "version": 3
   },
   "file_extension": ".py",
   "mimetype": "text/x-python",
   "name": "python",
   "nbconvert_exporter": "python",
   "pygments_lexer": "ipython3",
   "version": "3.7.4"
  }
 },
 "nbformat": 4,
 "nbformat_minor": 2
}
