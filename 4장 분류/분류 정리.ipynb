{
 "cells": [
  {
   "cell_type": "markdown",
   "metadata": {},
   "source": [
    "### 지도학습의 분류\n",
    "\n",
    "1. 결정 트리\n",
    "  - 쉽고, 직관적\n",
    "  - 룰 규칙을 만들기 위해 과적합됨<BR><BR>\n",
    "2. 결정 트리 기반의 앙상블\n",
    "  - 결정 트리의 단점을 약한 학습기 기반에서 여러개 만들어 단점은 순화시키고, 강점은 강화시킴<BR><BR>\n",
    "3. 앙상블\n",
    "  - 배깅의 랜덤 포레스트\n",
    "     - 약한 학습기들이 데이터를 부트스트래핑 방법으로 샘플링 함\n",
    "     - 각각의 학습기들이 중복을 허용한 부트스트래핑으로 샘플링된 데이터를 학습하고 예측<BR><BR>\n",
    "  - 부스팅의 GBM\n",
    "     - 오류가 감소하는 방법인 경사하강법을 이용해 오류가 발생한 데이터에 대해 각각의 학습기가 가중치를 부여하는 방법<BR><BR>\n",
    "\n",
    "4. GBM의 기능을 더욱 향상시킨 XGBoost, LightGBM\n",
    "  - 많이 사용되는 알고리즘<BR><BR>\n",
    "5. 스태킹 모델\n",
    "  - 앙상블과 유사하지만, 큰 차이가 개별 모델들이 학습을 해서 예측한 값을 가지고 최종적인 메타 모델이 예측값을 스태킹한 데이터 세트를 학습하고 예측"
   ]
  },
  {
   "cell_type": "code",
   "execution_count": null,
   "metadata": {},
   "outputs": [],
   "source": []
  }
 ],
 "metadata": {
  "kernelspec": {
   "display_name": "Python 3",
   "language": "python",
   "name": "python3"
  },
  "language_info": {
   "codemirror_mode": {
    "name": "ipython",
    "version": 3
   },
   "file_extension": ".py",
   "mimetype": "text/x-python",
   "name": "python",
   "nbconvert_exporter": "python",
   "pygments_lexer": "ipython3",
   "version": "3.7.4"
  }
 },
 "nbformat": 4,
 "nbformat_minor": 2
}
