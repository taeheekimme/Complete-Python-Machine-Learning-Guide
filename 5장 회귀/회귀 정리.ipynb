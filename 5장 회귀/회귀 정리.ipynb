{
 "cells": [
  {
   "cell_type": "markdown",
   "metadata": {},
   "source": [
    "독립변수(피처)와 종속변수(타겟값)의 관계를 선형으로 예상해서 선형 함수를 찾는 것<BR><BR>\n",
    "즉, 기울기 W1와 절편 W0 회귀 계수를 찾는 것<BR><BR>\n",
    "\n",
    "\n",
    "- 선형 회귀와 비용 함수 RSS<BR>\n",
    "  - 실제값과 예측값의 차이를 제곱한 RSS를 비용 함수로 사용<BR><BR>\n",
    "- 경사 하강법<BR>\n",
    "  - 비용 함수가 최소인 W값을 찾기위한 경사하강법<BR>\n",
    "  - 비용이 계속 감소하는 방향성을 가지고 회귀 계수를 업데이트하면서 최소 비용값을 가지는 회귀계수를 구함<BR><BR>\n",
    "- 다항회귀와 과소적합/과대적합<BR>\n",
    "  - 사이킷런에서는 다항 피처와 선형 회귀을 파이프라인을 결합해 구현<BR>\n",
    "  - 다항회귀의 높은 degree로 갈수록 학습 데이터에만 fit을 하기위해 과적합되는 것을 볼 수 있었음<BR>\n",
    "  - 학습 데이터에 대해 예측 오류만 줄이기 위해 비용 함수만 최적하면서 오히려 과적합 발생<BR><BR>\n",
    "- 규제 <BR>\n",
    "  - L2규제를 적용한 릿지 (회귀 계수 크기를 L2규제값을 증가시키면서 작게만드는 것)<BR>\n",
    "  - L1규제를 적용한 라쏘 (L1규제값을 크게가면서 불필요하다고 판단되는 피처들의 회귀계수를 0으로 만들어 피처 selection기능을 함)<BR>\n",
    "  - L1과 L2규제가 결합된 엘라스틱넷 회귀 <BR><BR>\n",
    "- 분류를 위한 로지스틱 회귀<BR>\n",
    "  - 이름은 회귀인데 선형회귀 방식을 분류에 적용한 이진분류 알고리즘<BR><BR>\n",
    "- CART기반의 회귀 트리<BR>\n",
    "  - 결정트리 포함 결정트리 기반의 앙상블은 CART기반으로 구성되어 분류 뿐만 아니라 회귀도 수행함<BR><BR>\n",
    "- 왜곡도 개선을 위한 데이터 변환과 원 핫 인코딩<BR>\n",
    "  - 선형 모델의 경우 데이터가 정규 분포를 띄는 것이 중요함<BR>\n",
    "     - 로그 변환<BR>\n",
    "  - 카테고리성 칼럼의 경우 그냥 숫자값으로 레이블 인코딩 하지 않고 원 핫 인코딩을 해야 예측 성능이 향상됨<BR><BR>\n",
    "- 2개의 실습 예제를 통한 데이터 정제와 변환 그리고 선형 회귀/회귀 트리/혼합 모델/스태킹 모델 학습/예측/평가 비교"
   ]
  },
  {
   "cell_type": "code",
   "execution_count": null,
   "metadata": {},
   "outputs": [],
   "source": []
  }
 ],
 "metadata": {
  "kernelspec": {
   "display_name": "Python 3",
   "language": "python",
   "name": "python3"
  },
  "language_info": {
   "codemirror_mode": {
    "name": "ipython",
    "version": 3
   },
   "file_extension": ".py",
   "mimetype": "text/x-python",
   "name": "python",
   "nbconvert_exporter": "python",
   "pygments_lexer": "ipython3",
   "version": "3.7.4"
  }
 },
 "nbformat": 4,
 "nbformat_minor": 2
}
