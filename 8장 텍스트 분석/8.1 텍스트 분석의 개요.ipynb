{
 "cells": [
  {
   "cell_type": "markdown",
   "metadata": {},
   "source": [
    "### NLP\n",
    "- 인간의 언어를 이해하고 해석하는데 중점\n",
    "\n",
    "### 텍스트 분석\n",
    "- 비정형 데이터에서 모델을 적용해 의미있는 정보를 추출해 비즈니스에 활용\n",
    "- 텍스트 마이닝이라고도 불림\n",
    "\n",
    "### 텍스트 분석 주요 영역\n",
    "- 텍스트 분류\n",
    "   - 지도 학습\n",
    "   - 특정 신문기사 내용이 어떤 카테고리에 속하는지 자동으로 분류\n",
    "   - 스팸 메일 분류\n",
    "- 감성 분석\n",
    "   - 소셜 미디어, 제품에서의 고객들 의견 분석\n",
    "   - 지도 학습, 비지도 학습(감성 딕셔너리에 있는 단어 사용)\n",
    "- 텍스트 요약 \n",
    "   - 텍스트 내에서 중요한 주제나 중심 사상 추출\n",
    "   - 토픽 모델링\n",
    "- 텍스트 군집화와 유사도 측정\n",
    "   - 비슷한 유형의 문서끼리 군집화\n",
    "   - 유사도를 측정해 비슷한 문서끼리 군집화\n",
    "   \n",
    "### 텍스트 분석 머신러닝 수행 프로세스\n",
    "- 텍스트 문서를 먼저 가공\n",
    "- 가공한 텍스트 문서를 피처로 만들어야 함 -> Feature Vectorization\n",
    "   - Bag of Words\n",
    "       - 단어들을 피처로 만듬\n",
    "       - 단어가 뜻하는 것을 피처값으로 만듬\n",
    "   - Word2Vec\n",
    "   \n",
    "### 텍스트 전처리 - 텍스트 정규화\n",
    "- 클렌징  \n",
    "   - 크롤링해서 가져왔을 때, HTML과 XML 태그나 특정 기호 제거\n",
    "- 토큰화\n",
    "   - 문장 토큰화\n",
    "   - 단어 토큰화 \n",
    "   - n - gram\n",
    "- 필터링\n",
    "   - 숫자 필터링\n",
    "- 스톱워드 제거\n",
    "   - 영어의 경우 a, the 제거\n",
    "- 철차 수정\n",
    "- Stemming\n",
    "   - amusing -> amus로 극단적으로 어근 추출\n",
    "- Lemmatization \n",
    "   - amusing -> amuse로 정교하게 추출"
   ]
  },
  {
   "cell_type": "code",
   "execution_count": null,
   "metadata": {},
   "outputs": [],
   "source": []
  }
 ],
 "metadata": {
  "kernelspec": {
   "display_name": "Python 3",
   "language": "python",
   "name": "python3"
  },
  "language_info": {
   "codemirror_mode": {
    "name": "ipython",
    "version": 3
   },
   "file_extension": ".py",
   "mimetype": "text/x-python",
   "name": "python",
   "nbconvert_exporter": "python",
   "pygments_lexer": "ipython3",
   "version": "3.7.4"
  }
 },
 "nbformat": 4,
 "nbformat_minor": 2
}
